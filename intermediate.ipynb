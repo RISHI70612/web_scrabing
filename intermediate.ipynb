{
 "cells": [
  {
   "cell_type": "code",
   "execution_count": 18,
   "id": "4364cc7a",
   "metadata": {},
   "outputs": [],
   "source": [
    "import requests \n",
    "import pandas as pd\n",
    "from bs4 import BeautifulSoup\n",
    "url  =  \"https://webscraper.io/test-sites/tables\"\n",
    "r = requests.get(url)\n",
    "soup = BeautifulSoup(r.text, \"lxml\")"
   ]
  },
  {
   "cell_type": "code",
   "execution_count": 45,
   "id": "a4dbe2f1",
   "metadata": {},
   "outputs": [
    {
     "name": "stdout",
     "output_type": "stream",
     "text": [
      "Empty DataFrame\n",
      "Columns: [#, First Name, Last Name, Username]\n",
      "Index: []\n",
      "Empty DataFrame\n",
      "Columns: [#, First Name, Last Name, Username]\n",
      "Index: []\n",
      "Empty DataFrame\n",
      "Columns: [#, First Name, Last Name, Username]\n",
      "Index: []\n"
     ]
    }
   ],
   "source": [
    "table = soup.find(\"table\", class_ =\"table table-bordered\")\n",
    "headers = table.find_all(\"th\")\n",
    "titles = []\n",
    "for header in headers :\n",
    "    title = header.text\n",
    "    titles.append(title)\n",
    "#print(titles)\n",
    "\n",
    "df = pd.DataFrame(columns = titles)\n",
    "\n",
    "rows = table.find_all(\"tr\")\n",
    "\n",
    "for i in rows[1:]:\n",
    "    data = table.find_all('td')\n",
    "    #print(data)\n",
    "    row = [tr.text for tr in data]\n",
    "    l = len(df)\n",
    "    df.loc(l) == row\n",
    "print(df)\n"
   ]
  },
  {
   "cell_type": "code",
   "execution_count": 46,
   "id": "3a36972d",
   "metadata": {},
   "outputs": [
    {
     "name": "stdout",
     "output_type": "stream",
     "text": [
      "   # First Name Last Name  Username\n",
      "0  1       Mark      Otto      @mdo\n",
      "1  2      Jacob  Thornton      @fat\n",
      "2  3      Larry  the Bird  @twitter\n"
     ]
    }
   ],
   "source": [
    "table = soup.find(\"table\", class_=\"table table-bordered\")\n",
    "headers = table.find_all(\"th\")\n",
    "titles = [header.text for header in headers]\n",
    "\n",
    "# Create a DataFrame with the extracted column titles\n",
    "df = pd.DataFrame(columns=titles)\n",
    "\n",
    "rows = table.find_all(\"tr\")\n",
    "\n",
    "# Iterate through each row in the table (excluding the header row)\n",
    "for row in rows[1:]:\n",
    "    data = row.find_all('td')  # Find all the cell data in the current row\n",
    "    row_data = [cell.text for cell in data]  # Extract text from each cell\n",
    "    df.loc[len(df)] = row_data  # Add the row data to the DataFrame\n",
    "\n",
    "print(df)"
   ]
  },
  {
   "cell_type": "code",
   "execution_count": 47,
   "id": "9370d313",
   "metadata": {},
   "outputs": [],
   "source": [
    "import csv \n",
    "df.to_csv('table_data.csv', index=False)"
   ]
  },
  {
   "cell_type": "code",
   "execution_count": null,
   "id": "f9ff02ec",
   "metadata": {},
   "outputs": [],
   "source": []
  }
 ],
 "metadata": {
  "kernelspec": {
   "display_name": "Python 3 (ipykernel)",
   "language": "python",
   "name": "python3"
  },
  "language_info": {
   "codemirror_mode": {
    "name": "ipython",
    "version": 3
   },
   "file_extension": ".py",
   "mimetype": "text/x-python",
   "name": "python",
   "nbconvert_exporter": "python",
   "pygments_lexer": "ipython3",
   "version": "3.11.4"
  }
 },
 "nbformat": 4,
 "nbformat_minor": 5
}
