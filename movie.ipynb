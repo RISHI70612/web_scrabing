{
 "cells": [
  {
   "cell_type": "code",
   "execution_count": 1,
   "id": "16ac41cc",
   "metadata": {},
   "outputs": [],
   "source": [
    "import requests"
   ]
  },
  {
   "cell_type": "code",
   "execution_count": 2,
   "id": "34604cad",
   "metadata": {},
   "outputs": [],
   "source": [
    "from bs4 import BeautifulSoup"
   ]
  },
  {
   "cell_type": "code",
   "execution_count": 3,
   "id": "20f6d4da",
   "metadata": {},
   "outputs": [],
   "source": [
    "url = 'https://www.boxofficemojo.com/year/2022/'\n",
    "page = requests.get(url)\n",
    "soup = BeautifulSoup(page.text, 'html.parser')"
   ]
  },
  {
   "cell_type": "code",
   "execution_count": 6,
   "id": "c58ca157",
   "metadata": {},
   "outputs": [],
   "source": [
    "table = soup.find('table')"
   ]
  },
  {
   "cell_type": "code",
   "execution_count": 15,
   "id": "50081164",
   "metadata": {},
   "outputs": [
    {
     "name": "stdout",
     "output_type": "stream",
     "text": [
      "Top Gun: Maverick\n"
     ]
    }
   ],
   "source": [
    "# get all the rows from that one table\n",
    "rows = table.find_all('tr')\n",
    "# some more trial-and-error testing to find out which row holds the first movie\n",
    "#print(rows[1])\n",
    "# now that I have the right row, get all the cells in that row\n",
    "cells = rows[1].find_all('td')\n",
    "# see whether I can print the movie title cleanly\n",
    "title = cells[1].text\n",
    "print(title)"
   ]
  },
  {
   "cell_type": "code",
   "execution_count": 21,
   "id": "7ba3f750",
   "metadata": {},
   "outputs": [
    {
     "name": "stdout",
     "output_type": "stream",
     "text": [
      "Top Gun: Maverick\n",
      "Black Panther: Wakanda Forever\n",
      "Doctor Strange in the Multiverse of Madness\n",
      "Avatar: The Way of Water\n",
      "Jurassic World Dominion\n"
     ]
    }
   ],
   "source": [
    "\n",
    "#get top 5 movie on this page \n",
    "for i in range (1,6):\n",
    "    cells = rows[i].find_all('td')\n",
    "    title = cells[1].text\n",
    "    print(title)"
   ]
  },
  {
   "cell_type": "code",
   "execution_count": 24,
   "id": "4f482f4f",
   "metadata": {},
   "outputs": [
    {
     "name": "stdout",
     "output_type": "stream",
     "text": [
      "$718,318,561\n",
      "$436,499,646\n",
      "$411,331,607\n",
      "$401,007,908\n",
      "$376,851,080\n"
     ]
    }
   ],
   "source": [
    "#now , printing the total gross \n",
    "for i in range(1,6):\n",
    "    cells = rows[i].find_all('td')\n",
    "    gross = cells[5].text\n",
    "    print(gross)"
   ]
  },
  {
   "cell_type": "code",
   "execution_count": 27,
   "id": "34b7aa47",
   "metadata": {},
   "outputs": [
    {
     "name": "stdout",
     "output_type": "stream",
     "text": [
      "1 Top Gun: Maverick $718,318,561\n",
      "2 Black Panther: Wakanda Forever $436,499,646\n",
      "3 Doctor Strange in the Multiverse of Madness $411,331,607\n",
      "4 Avatar: The Way of Water $401,007,908\n",
      "5 Jurassic World Dominion $376,851,080\n"
     ]
    }
   ],
   "source": [
    "#noe , im printing rank, name and gross \n",
    "for i in range (1,6):\n",
    "    cells = rows[i].find_all('td')\n",
    "    print(cells[0].text , cells[1].text , cells[5].text)"
   ]
  },
  {
   "cell_type": "code",
   "execution_count": 33,
   "id": "821c6369",
   "metadata": {},
   "outputs": [
    {
     "name": "stdout",
     "output_type": "stream",
     "text": [
      "[2023, 2022, 2021, 2020, 2019, 2018, 2017, 2016, 2015, 2014]\n"
     ]
    }
   ],
   "source": [
    "# create a list of the 10 years I want\n",
    "years = []\n",
    "start = 2023\n",
    "for i in range(0, 10):\n",
    "    years.append(start - i)\n",
    "print(years)"
   ]
  },
  {
   "cell_type": "code",
   "execution_count": 35,
   "id": "dcbe0193",
   "metadata": {},
   "outputs": [
    {
     "name": "stdout",
     "output_type": "stream",
     "text": [
      "https://www.boxofficemojo.com/year/2023/\n"
     ]
    }
   ],
   "source": [
    "#create base url \n",
    "base_url = 'https://www.boxofficemojo.com/year/'\n",
    "#print(base_url + years[0] + '/')\n",
    "print(base_url +str( years[0]) +'/')\n",
    "\n"
   ]
  },
  {
   "cell_type": "code",
   "execution_count": 36,
   "id": "8c5ce8c4",
   "metadata": {},
   "outputs": [
    {
     "name": "stdout",
     "output_type": "stream",
     "text": [
      "1 Barbie $594,254,460\n",
      "2 The Super Mario Bros. Movie $574,759,600\n",
      "3 Spider-Man: Across the Spider-Verse $381,178,195\n",
      "4 Guardians of the Galaxy Vol. 3 $358,995,815\n",
      "5 Oppenheimer $300,144,670\n",
      "1 Top Gun: Maverick $718,318,561\n",
      "2 Black Panther: Wakanda Forever $436,499,646\n",
      "3 Doctor Strange in the Multiverse of Madness $411,331,607\n",
      "4 Avatar: The Way of Water $401,007,908\n",
      "5 Jurassic World Dominion $376,851,080\n",
      "1 Spider-Man: No Way Home $572,984,769\n",
      "2 Shang-Chi and the Legend of the Ten Rings $224,543,292\n",
      "3 Venom: Let There Be Carnage $212,609,036\n",
      "4 Black Widow $183,651,655\n",
      "5 F9: The Fast Saga $173,005,945\n",
      "1 Bad Boys for Life $204,417,855\n",
      "2 1917 $157,901,466\n",
      "3 Sonic the Hedgehog $146,066,470\n",
      "4 Jumanji: The Next Level $124,736,710\n",
      "5 Star Wars: Episode IX - The Rise of Skywalker $124,496,308\n",
      "1 Avengers: Endgame $858,373,000\n",
      "2 The Lion King $543,638,043\n",
      "3 Toy Story 4 $434,038,008\n",
      "4 Frozen II $430,144,682\n",
      "5 Captain Marvel $426,829,839\n",
      "1 Black Panther $700,059,566\n",
      "2 Avengers: Infinity War $678,815,482\n",
      "3 Incredibles 2 $608,581,744\n",
      "4 Jurassic World: Fallen Kingdom $417,719,760\n",
      "5 Deadpool 2 $318,491,426\n",
      "1 Star Wars: Episode VIII - The Last Jedi $517,218,368\n",
      "2 Beauty and the Beast $504,014,165\n",
      "3 Wonder Woman $412,563,408\n",
      "4 Guardians of the Galaxy Vol. 2 $389,813,101\n",
      "5 Spider-Man: Homecoming $334,201,140\n",
      "1 Finding Dory $486,295,561\n",
      "2 Rogue One: A Star Wars Story $408,235,850\n",
      "3 Captain America: Civil War $408,084,349\n",
      "4 The Secret Life of Pets $368,384,330\n",
      "5 The Jungle Book $364,001,123\n",
      "1 Jurassic World $652,270,625\n",
      "2 Star Wars: Episode VII - The Force Awakens $651,967,269\n",
      "3 Avengers: Age of Ultron $459,005,868\n",
      "4 Inside Out $356,461,711\n",
      "5 Furious 7 $353,007,020\n",
      "1 Guardians of the Galaxy $332,934,626\n",
      "2 The Hunger Games: Mockingjay - Part 1 $313,282,914\n",
      "3 Captain America: The Winter Soldier $259,766,572\n",
      "4 The Lego Movie $257,760,692\n",
      "5 Transformers: Age of Extinction $245,439,076\n"
     ]
    }
   ],
   "source": [
    "# top 5 movies for each of the 10 years in my list of the years \n",
    "for year in years:\n",
    "    url = base_url + str(year) + '/'\n",
    "    page = requests.get(url)\n",
    "    soup = BeautifulSoup(page.text, 'html.parser')\n",
    "    table = soup.find( 'table' )\n",
    "    rows = table.find_all('tr')\n",
    "    for i in range(1, 6):\n",
    "        cells = rows[i].find_all('td')\n",
    "        print(cells[0].text, cells[1].text, cells[5].text)"
   ]
  },
  {
   "cell_type": "code",
   "execution_count": 40,
   "id": "a17d247c",
   "metadata": {},
   "outputs": [
    {
     "name": "stdout",
     "output_type": "stream",
     "text": [
      "2022 1 Top Gun: Maverick 718318561\n",
      "2022 2 Black Panther: Wakanda Forever 436499646\n",
      "2022 3 Doctor Strange in the Multiverse of Madness 411331607\n",
      "2022 4 Avatar: The Way of Water 401007908\n",
      "2022 5 Jurassic World Dominion 376851080\n",
      "2020 1 Bad Boys for Life 204417855\n",
      "2020 2 1917 157901466\n",
      "2020 3 Sonic the Hedgehog 146066470\n",
      "2020 4 Jumanji: The Next Level 124736710\n",
      "2020 5 Star Wars: Episode IX - The Rise of Skywalker 124496308\n"
     ]
    }
   ],
   "source": [
    "# testing a way to add the year to each line, using a list with only two years in it to save time\n",
    "\n",
    "miniyears = [2022, 2020]\n",
    "for year in miniyears:\n",
    "    url = base_url + str(year) + '/'\n",
    "    page = requests.get(url)\n",
    "    soup = BeautifulSoup(page.text, 'html.parser')\n",
    "    table = soup.find( 'table' )\n",
    "    rows = table.find_all('tr')\n",
    "    for i in range(1, 6):\n",
    "        cells = rows[i].find_all('td')\n",
    "        gross = cells[5].text.strip('$').replace(',', '')\n",
    "        print(year, cells[0].text, cells[1].text, gross)"
   ]
  },
  {
   "cell_type": "code",
   "execution_count": 41,
   "id": "19c1c24a",
   "metadata": {},
   "outputs": [],
   "source": [
    "import csv"
   ]
  },
  {
   "cell_type": "code",
   "execution_count": 42,
   "id": "b63b291b",
   "metadata": {},
   "outputs": [
    {
     "name": "stdout",
     "output_type": "stream",
     "text": [
      "The CSV is done!\n"
     ]
    }
   ],
   "source": [
    "# open the new file for writing - this creates the file \n",
    "csvfile = open('movie.csv' ,'w' , newline = '' , encoding ='utf-8')\n",
    "\n",
    "#make a new variable c for python's CSV writer object - \n",
    "c = csv.writer(csvfile)\n",
    "\n",
    "#write a header row to the csv\n",
    "c.writerow(['year','rank','title', 'gross'])\n",
    "\n",
    "#modified code from above \n",
    "for year in years:\n",
    "    url = base_url + str(year) + '/'\n",
    "    page = requests.get(url)\n",
    "    soup = BeautifulSoup(page.text, 'html.parser')\n",
    "    table = soup.find( 'table' )\n",
    "    rows = table.find_all('tr')\n",
    "    for i in range(1, 6):\n",
    "        cells = rows[i].find_all('td')\n",
    "        gross = cells[7].text.strip('$').replace(',', '')\n",
    "        # print(year, cells[0].text, cells[1].text, gross)\n",
    "        # instead of printing, I need to make a LIST and write that list to the CSV as one row\n",
    "        # I use the same cells that I had printed before \n",
    "        c.writerow( [year, cells[0].text, cells[1].text, gross] )\n",
    "\n",
    "# close the file\n",
    "csvfile.close()\n",
    "\n",
    "print(\"The CSV is done!\")"
   ]
  },
  {
   "cell_type": "code",
   "execution_count": null,
   "id": "5e7dd5ff",
   "metadata": {},
   "outputs": [],
   "source": []
  }
 ],
 "metadata": {
  "kernelspec": {
   "display_name": "Python 3 (ipykernel)",
   "language": "python",
   "name": "python3"
  },
  "language_info": {
   "codemirror_mode": {
    "name": "ipython",
    "version": 3
   },
   "file_extension": ".py",
   "mimetype": "text/x-python",
   "name": "python",
   "nbconvert_exporter": "python",
   "pygments_lexer": "ipython3",
   "version": "3.11.4"
  }
 },
 "nbformat": 4,
 "nbformat_minor": 5
}
