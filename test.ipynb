{
 "cells": [
  {
   "cell_type": "code",
   "execution_count": 2,
   "id": "2e0e620d",
   "metadata": {},
   "outputs": [],
   "source": [
    "import requests\n",
    "from bs4 import BeautifulSoup\n",
    "url = \"https://webscraper.io/test-sites/e-commerce/allinone\"\n",
    "r = requests.get(url)\n",
    "soup = BeautifulSoup(r.text, 'lxml')\n",
    "\n"
   ]
  },
  {
   "cell_type": "code",
   "execution_count": 3,
   "id": "8e971151",
   "metadata": {},
   "outputs": [
    {
     "name": "stdout",
     "output_type": "stream",
     "text": [
      "['navbar', 'navbar-fixed-top', 'navbar-static']\n"
     ]
    }
   ],
   "source": [
    "#purple- tag\n",
    "#yellow = attribute\n",
    "#Black - strings\n",
    "\n",
    "#playing with attributes\n",
    "tag = soup.header\n",
    "atb = (tag.attrs)\n",
    "print(atb[\"class\"])"
   ]
  },
  {
   "cell_type": "code",
   "execution_count": 4,
   "id": "47d988bd",
   "metadata": {},
   "outputs": [
    {
     "name": "stdout",
     "output_type": "stream",
     "text": [
      "Web Scraper\n"
     ]
    }
   ],
   "source": [
    "#playing with navigation strings i.e text\n",
    "tag = soup.div.p.string\n",
    "print(tag)"
   ]
  },
  {
   "cell_type": "code",
   "execution_count": 5,
   "id": "f7759c7d",
   "metadata": {},
   "outputs": [
    {
     "name": "stdout",
     "output_type": "stream",
     "text": [
      "$69.99\n"
     ]
    }
   ],
   "source": [
    "#working with find()\n",
    "url = \"https://webscraper.io/test-sites/e-commerce/allinone/computers/tablets\"\n",
    "r = requests.get(url)\n",
    "soup = BeautifulSoup(r.text, 'lxml')\n",
    "\n",
    "price = (soup.find(\"h4\", {\"class\":\"pull-right price\"}))\n",
    "print(price.string)"
   ]
  },
  {
   "cell_type": "code",
   "execution_count": 6,
   "id": "3865d73c",
   "metadata": {},
   "outputs": [
    {
     "name": "stdout",
     "output_type": "stream",
     "text": [
      "Lenovo IdeaTab\n"
     ]
    }
   ],
   "source": [
    "name = (soup.find(\"a\", {\"class\":\"title\"}))\n",
    "print(name.string)"
   ]
  },
  {
   "cell_type": "code",
   "execution_count": 19,
   "id": "cf619268",
   "metadata": {},
   "outputs": [
    {
     "name": "stdout",
     "output_type": "stream",
     "text": [
      "21\n",
      "Lenovo IdeaTab\n",
      "IdeaTab A3500L\n",
      "Acer Iconia\n",
      "Galaxy Tab 3\n",
      "Iconia B1-730HD\n",
      "Memo Pad HD 7\n",
      "Asus MeMO Pad\n",
      "Amazon Kindle\n",
      "Galaxy Tab 3\n",
      "IdeaTab A8-50\n",
      "MeMO Pad 7\n",
      "IdeaTab A3500-H\n",
      "IdeaTab S5000\n",
      "Galaxy Tab 4\n",
      "Galaxy Tab\n",
      "MeMo PAD FHD 10\n",
      "Galaxy Note\n",
      "Galaxy Note\n",
      "iPad Mini Retina\n",
      "Galaxy Note 10.1\n",
      "Apple iPad Air\n"
     ]
    }
   ],
   "source": [
    "#playing with find_all()\n",
    "\n",
    "names =(soup.find_all(\"a\", {\"class\":\"title\"}))\n",
    "print(len(names))\n",
    "for name in names:\n",
    "    #print (name.string)\n",
    "    print (name.text)\n",
    "    \n",
    "desc = soup.find_all(\"p\", class_ = 'description ')\n",
    "#print(desc[3])"
   ]
  },
  {
   "cell_type": "code",
   "execution_count": 21,
   "id": "9adb4ebf",
   "metadata": {},
   "outputs": [],
   "source": [
    "#find_All with regex\n",
    "import re"
   ]
  },
  {
   "cell_type": "code",
   "execution_count": 23,
   "id": "e974e100",
   "metadata": {},
   "outputs": [
    {
     "name": "stdout",
     "output_type": "stream",
     "text": [
      "['Galaxy Tab 3', 'Galaxy Tab 3']\n",
      "['Galaxy Tab 3', 'Galaxy Tab 3', 'Galaxy Tab 4', 'Galaxy Tab', 'Galaxy Note', 'Galaxy Note', 'Galaxy Note 10.1']\n"
     ]
    }
   ],
   "source": [
    "data = soup.find_all(string = \"Galaxy Tab 3\")\n",
    "print(data)\n",
    "\n",
    "re_data = soup.find_all(string = re.compile(\"Galaxy\"))\n",
    "print(re_data)"
   ]
  },
  {
   "cell_type": "markdown",
   "id": "ae09549a",
   "metadata": {},
   "source": [
    "## using pandas and exporting csv file "
   ]
  },
  {
   "cell_type": "code",
   "execution_count": 34,
   "id": "cd022f11",
   "metadata": {},
   "outputs": [
    {
     "name": "stdout",
     "output_type": "stream",
     "text": [
      "['Lenovo IdeaTab', 'IdeaTab A3500L', 'Acer Iconia', 'Galaxy Tab 3', 'Iconia B1-730HD', 'Memo Pad HD 7', 'Asus MeMO Pad', 'Amazon Kindle', 'Galaxy Tab 3', 'IdeaTab A8-50', 'MeMO Pad 7', 'IdeaTab A3500-H', 'IdeaTab S5000', 'Galaxy Tab 4', 'Galaxy Tab', 'MeMo PAD FHD 10', 'Galaxy Note', 'Galaxy Note', 'iPad Mini Retina', 'Galaxy Note 10.1', 'Apple iPad Air']\n",
      "['$69.99', '$88.99', '$96.99', '$97.99', '$99.99', '$101.99', '$102.99', '$103.99', '$107.99', '$121.99', '$130.99', '$148.99', '$172.99', '$233.99', '$251.99', '$320.99', '$399.99', '$489.99', '$537.99', '$587.99', '$603.99']\n",
      "['7\" screen, Android', 'Black, 7\" IPS, Quad-Core 1.2GHz, 8GB, Android 4.2', '7\" screen, Android, 16GB', '7\", 8GB, Wi-Fi, Android 4.2, White', 'Black, 7\", 1.6GHz Dual-Core, 8GB, Android 4.4', 'IPS, Dual-Core 1.2GHz, 8GB, Android 4.3', '7\" screen, Android, 8GB', '6\" screen, wifi', '7\", 8GB, Wi-Fi, Android 4.2, Yellow', 'Blue, 8\" IPS, Quad-Core 1.3GHz, 16GB, Android 4.2', 'White, 7\", Atom 1.2GHz, 8GB, Android 4.4', 'Blue, 7\" IPS, Quad-Core 1.3GHz, 8GB, 3G, Android 4.2', 'Silver, 7\" IPS, Quad-Core 1.2Ghz, 16GB, 3G, Android 4.2', 'LTE (SM-T235), Quad-Core 1.2GHz, 8GB, Black', '16GB, White', 'White, 10.1\" IPS, 1.6GHz, 2GB, 16GB, Android 4.2', '10.1\", 3G, Android 4.0, Garnet Red', '12.2\", 32GB, WiFi, Android 4.4, White', 'Wi-Fi + Cellular, 32GB, Silver', '10.1\", 32GB, Black', 'Wi-Fi, 64GB, Silver']\n"
     ]
    }
   ],
   "source": [
    "import pandas as pd \n",
    "names = soup.find_all(\"a\", class_ = \"title\")\n",
    "product_name =[]\n",
    "for name in names:\n",
    "    product_name.append(name.text)\n",
    "print(product_name)\n",
    "\n",
    "prices = soup.find_all('h4', class_ = 'pull-right price')\n",
    "price_list= []\n",
    "for price in prices:\n",
    "    price_list.append(price.text)\n",
    "print(price_list) \n",
    "    \n",
    "    \n",
    "descs = soup.find_all(\"p\",class_ =\"description\")\n",
    "descs_list =[]\n",
    "\n",
    "for desc in descs:\n",
    "    descs_list.append(desc.text)\n",
    "print(descs_list)\n",
    "    "
   ]
  },
  {
   "cell_type": "code",
   "execution_count": 36,
   "id": "687c8ca6",
   "metadata": {},
   "outputs": [
    {
     "name": "stdout",
     "output_type": "stream",
     "text": [
      "        Product Name   Prices  \\\n",
      "0     Lenovo IdeaTab   $69.99   \n",
      "1     IdeaTab A3500L   $88.99   \n",
      "2        Acer Iconia   $96.99   \n",
      "3       Galaxy Tab 3   $97.99   \n",
      "4    Iconia B1-730HD   $99.99   \n",
      "5      Memo Pad HD 7  $101.99   \n",
      "6      Asus MeMO Pad  $102.99   \n",
      "7      Amazon Kindle  $103.99   \n",
      "8       Galaxy Tab 3  $107.99   \n",
      "9      IdeaTab A8-50  $121.99   \n",
      "10        MeMO Pad 7  $130.99   \n",
      "11   IdeaTab A3500-H  $148.99   \n",
      "12     IdeaTab S5000  $172.99   \n",
      "13      Galaxy Tab 4  $233.99   \n",
      "14        Galaxy Tab  $251.99   \n",
      "15   MeMo PAD FHD 10  $320.99   \n",
      "16       Galaxy Note  $399.99   \n",
      "17       Galaxy Note  $489.99   \n",
      "18  iPad Mini Retina  $537.99   \n",
      "19  Galaxy Note 10.1  $587.99   \n",
      "20    Apple iPad Air  $603.99   \n",
      "\n",
      "                                          Description  \n",
      "0                                  7\" screen, Android  \n",
      "1   Black, 7\" IPS, Quad-Core 1.2GHz, 8GB, Android 4.2  \n",
      "2                            7\" screen, Android, 16GB  \n",
      "3                  7\", 8GB, Wi-Fi, Android 4.2, White  \n",
      "4       Black, 7\", 1.6GHz Dual-Core, 8GB, Android 4.4  \n",
      "5             IPS, Dual-Core 1.2GHz, 8GB, Android 4.3  \n",
      "6                             7\" screen, Android, 8GB  \n",
      "7                                     6\" screen, wifi  \n",
      "8                 7\", 8GB, Wi-Fi, Android 4.2, Yellow  \n",
      "9   Blue, 8\" IPS, Quad-Core 1.3GHz, 16GB, Android 4.2  \n",
      "10           White, 7\", Atom 1.2GHz, 8GB, Android 4.4  \n",
      "11  Blue, 7\" IPS, Quad-Core 1.3GHz, 8GB, 3G, Andro...  \n",
      "12  Silver, 7\" IPS, Quad-Core 1.2Ghz, 16GB, 3G, An...  \n",
      "13        LTE (SM-T235), Quad-Core 1.2GHz, 8GB, Black  \n",
      "14                                        16GB, White  \n",
      "15   White, 10.1\" IPS, 1.6GHz, 2GB, 16GB, Android 4.2  \n",
      "16                 10.1\", 3G, Android 4.0, Garnet Red  \n",
      "17              12.2\", 32GB, WiFi, Android 4.4, White  \n",
      "18                     Wi-Fi + Cellular, 32GB, Silver  \n",
      "19                                 10.1\", 32GB, Black  \n",
      "20                                Wi-Fi, 64GB, Silver  \n"
     ]
    }
   ],
   "source": [
    "df = pd.DataFrame({\"Product Name\" : product_name , \"Prices\":price_list , \"Description\":descs_list})\n",
    "print(df)\n",
    "df.to_csv(\"products_details.csv\")"
   ]
  },
  {
   "cell_type": "code",
   "execution_count": null,
   "id": "67261218",
   "metadata": {},
   "outputs": [],
   "source": []
  }
 ],
 "metadata": {
  "kernelspec": {
   "display_name": "Python 3 (ipykernel)",
   "language": "python",
   "name": "python3"
  },
  "language_info": {
   "codemirror_mode": {
    "name": "ipython",
    "version": 3
   },
   "file_extension": ".py",
   "mimetype": "text/x-python",
   "name": "python",
   "nbconvert_exporter": "python",
   "pygments_lexer": "ipython3",
   "version": "3.11.4"
  }
 },
 "nbformat": 4,
 "nbformat_minor": 5
}
