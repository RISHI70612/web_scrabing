{
 "cells": [
  {
   "cell_type": "code",
   "execution_count": 1,
   "id": "bbfdb4d2",
   "metadata": {},
   "outputs": [],
   "source": [
    "import requests\n",
    "from bs4 import BeautifulSoup\n",
    "#url =\"https://www.daraz.com.np/mobiles-tablets-accessories/?spm=a2a0e.11779170.cate_7.1.287d2d2boqbRiD\"\n",
    "url = \"https://www.flipkart.com/mobiles/pr?sid=tyy%2C4io&p%5B%5D=facets.brand%255B%255D%3Dvivo&ctx=eyJjYXJkQ29udGV4dCI6eyJhdHRyaWJ1dGVzIjp7InRpdGxlIjp7Im11bHRpVmFsdWVkQXR0cmlidXRlIjp7ImtleSI6InRpdGxlIiwiaW5mZXJlbmNlVHlwZSI6IlRJVExFIiwidmFsdWVzIjpbIlZJVk8iXSwidmFsdWVUeXBlIjoiTVVMVElfVkFMVUVEIn19fX19&fm=neo%2Fmerchandising&iid=M_ff06eb92-ad05-4d09-a381-5cba295ff50a_5.3Z3SLACO8AXE&ppt=browse&ppn=browse&ssid=6oox7isl400000001691833159604&p%5B%5D=facets.availability%255B%255D%3DExclude%2BOut%2Bof%2BStock&ctx=eyJjYXJkQ29udGV4dCI6eyJhdHRyaWJ1dGVzIjp7InRpdGxlIjp7Im11bHRpVmFsdWVkQXR0cmlidXRlIjp7ImtleSI6InRpdGxlIiwiaW5mZXJlbmNlVHlwZSI6IlRJVExFIiwidmFsdWVzIjpbIlZJVk8iXSwidmFsdWVUeXBlIjoiTVVMVElfVkFMVUVEIn19fX19&otracker=clp_metro_expandable_3_5.metroExpandable.METRO_EXPANDABLE_VIVO_mobile-phones-store_3Z3SLACO8AXE_wp3&fm=neo%2Fmerchandising&iid=M_ffd55c20-ca16-48fe-8e7e-b51fc9798f4a_5.3Z3SLACO8AXE&ppt=browse&ppn=browse&ssid=fusmks8d4g0000001693493190938\"\n",
    "r = requests.get(url)\n",
    "#print(r)\n",
    "soup = BeautifulSoup(r.text,\"lxml\")"
   ]
  },
  {
   "cell_type": "code",
   "execution_count": 2,
   "id": "229286c1",
   "metadata": {},
   "outputs": [
    {
     "name": "stdout",
     "output_type": "stream",
     "text": [
      "https://www.flipkart.com/mobiles/pr?sid=tyy%2C4io&p%5B%5D=facets.brand%255B%255D%3Dvivo&ctx=eyJjYXJkQ29udGV4dCI6eyJhdHRyaWJ1dGVzIjp7InRpdGxlIjp7Im11bHRpVmFsdWVkQXR0cmlidXRlIjp7ImtleSI6InRpdGxlIiwiaW5mZXJlbmNlVHlwZSI6IlRJVExFIiwidmFsdWVzIjpbIlZJVk8iXSwidmFsdWVUeXBlIjoiTVVMVElfVkFMVUVEIn19fX19&fm=neo%2Fmerchandising&iid=M_ff06eb92-ad05-4d09-a381-5cba295ff50a_5.3Z3SLACO8AXE&ppt=browse&ppn=browse&ssid=6oox7isl400000001691833159604&p%5B%5D=facets.availability%255B%255D%3DExclude%2BOut%2Bof%2BStock&ctx=eyJjYXJkQ29udGV4dCI6eyJhdHRyaWJ1dGVzIjp7InRpdGxlIjp7Im11bHRpVmFsdWVkQXR0cmlidXRlIjp7ImtleSI6InRpdGxlIiwiaW5mZXJlbmNlVHlwZSI6IlRJVExFIiwidmFsdWVzIjpbIlZJVk8iXSwidmFsdWVUeXBlIjoiTVVMVElfVkFMVUVEIn19fX19&otracker=clp_metro_expandable_3_5.metroExpandable.METRO_EXPANDABLE_VIVO_mobile-phones-store_3Z3SLACO8AXE_wp3&fm=neo%2Fmerchandising&iid=M_ffd55c20-ca16-48fe-8e7e-b51fc9798f4a_5.3Z3SLACO8AXE&ppt=browse&ppn=browse&ssid=fusmks8d4g0000001693493190938&page=2\n"
     ]
    }
   ],
   "source": [
    "np = soup.find(\"a\", class_ =\"_1LKTO3\").get(\"href\")\n",
    "#print(np)\n",
    "cnp = \"https://www.flipkart.com\" + np \n",
    "print(cnp)"
   ]
  },
  {
   "cell_type": "code",
   "execution_count": 6,
   "id": "60c3169b",
   "metadata": {},
   "outputs": [
    {
     "name": "stdout",
     "output_type": "stream",
     "text": [
      "https://www.flipkart.com/mobiles/pr?sid=tyy%2C4io&p%5B%5D=facets.brand%255B%255D%3Dvivo&ctx=eyJjYXJkQ29udGV4dCI6eyJhdHRyaWJ1dGVzIjp7InRpdGxlIjp7Im11bHRpVmFsdWVkQXR0cmlidXRlIjp7ImtleSI6InRpdGxlIiwiaW5mZXJlbmNlVHlwZSI6IlRJVExFIiwidmFsdWVzIjpbIlZJVk8iXSwidmFsdWVUeXBlIjoiTVVMVElfVkFMVUVEIn19fX19&fm=neo%2Fmerchandising&iid=M_ff06eb92-ad05-4d09-a381-5cba295ff50a_5.3Z3SLACO8AXE&ppt=browse&ppn=browse&ssid=6oox7isl400000001691833159604&p%5B%5D=facets.availability%255B%255D%3DExclude%2BOut%2Bof%2BStock&ctx=eyJjYXJkQ29udGV4dCI6eyJhdHRyaWJ1dGVzIjp7InRpdGxlIjp7Im11bHRpVmFsdWVkQXR0cmlidXRlIjp7ImtleSI6InRpdGxlIiwiaW5mZXJlbmNlVHlwZSI6IlRJVExFIiwidmFsdWVzIjpbIlZJVk8iXSwidmFsdWVUeXBlIjoiTVVMVElfVkFMVUVEIn19fX19&otracker=clp_metro_expandable_3_5.metroExpandable.METRO_EXPANDABLE_VIVO_mobile-phones-store_3Z3SLACO8AXE_wp3&fm=neo%2Fmerchandising&iid=M_ffd55c20-ca16-48fe-8e7e-b51fc9798f4a_5.3Z3SLACO8AXE&ppt=browse&ppn=browse&ssid=fusmks8d4g0000001693493190938&page=1\n",
      "https://www.flipkart.com/mobiles/pr?sid=tyy%2C4io&p%5B%5D=facets.brand%255B%255D%3Dvivo&ctx=eyJjYXJkQ29udGV4dCI6eyJhdHRyaWJ1dGVzIjp7InRpdGxlIjp7Im11bHRpVmFsdWVkQXR0cmlidXRlIjp7ImtleSI6InRpdGxlIiwiaW5mZXJlbmNlVHlwZSI6IlRJVExFIiwidmFsdWVzIjpbIlZJVk8iXSwidmFsdWVUeXBlIjoiTVVMVElfVkFMVUVEIn19fX19&fm=neo%2Fmerchandising&iid=M_ff06eb92-ad05-4d09-a381-5cba295ff50a_5.3Z3SLACO8AXE&ppt=browse&ppn=browse&ssid=6oox7isl400000001691833159604&p%5B%5D=facets.availability%255B%255D%3DExclude%2BOut%2Bof%2BStock&ctx=eyJjYXJkQ29udGV4dCI6eyJhdHRyaWJ1dGVzIjp7InRpdGxlIjp7Im11bHRpVmFsdWVkQXR0cmlidXRlIjp7ImtleSI6InRpdGxlIiwiaW5mZXJlbmNlVHlwZSI6IlRJVExFIiwidmFsdWVzIjpbIlZJVk8iXSwidmFsdWVUeXBlIjoiTVVMVElfVkFMVUVEIn19fX19&otracker=clp_metro_expandable_3_5.metroExpandable.METRO_EXPANDABLE_VIVO_mobile-phones-store_3Z3SLACO8AXE_wp3&fm=neo%2Fmerchandising&iid=M_ffd55c20-ca16-48fe-8e7e-b51fc9798f4a_5.3Z3SLACO8AXE&ppt=browse&ppn=browse&ssid=fusmks8d4g0000001693493190938&page=2\n",
      "https://www.flipkart.com/mobiles/pr?sid=tyy%2C4io&p%5B%5D=facets.brand%255B%255D%3Dvivo&ctx=eyJjYXJkQ29udGV4dCI6eyJhdHRyaWJ1dGVzIjp7InRpdGxlIjp7Im11bHRpVmFsdWVkQXR0cmlidXRlIjp7ImtleSI6InRpdGxlIiwiaW5mZXJlbmNlVHlwZSI6IlRJVExFIiwidmFsdWVzIjpbIlZJVk8iXSwidmFsdWVUeXBlIjoiTVVMVElfVkFMVUVEIn19fX19&fm=neo%2Fmerchandising&iid=M_ff06eb92-ad05-4d09-a381-5cba295ff50a_5.3Z3SLACO8AXE&ppt=browse&ppn=browse&ssid=6oox7isl400000001691833159604&p%5B%5D=facets.availability%255B%255D%3DExclude%2BOut%2Bof%2BStock&ctx=eyJjYXJkQ29udGV4dCI6eyJhdHRyaWJ1dGVzIjp7InRpdGxlIjp7Im11bHRpVmFsdWVkQXR0cmlidXRlIjp7ImtleSI6InRpdGxlIiwiaW5mZXJlbmNlVHlwZSI6IlRJVExFIiwidmFsdWVzIjpbIlZJVk8iXSwidmFsdWVUeXBlIjoiTVVMVElfVkFMVUVEIn19fX19&otracker=clp_metro_expandable_3_5.metroExpandable.METRO_EXPANDABLE_VIVO_mobile-phones-store_3Z3SLACO8AXE_wp3&fm=neo%2Fmerchandising&iid=M_ffd55c20-ca16-48fe-8e7e-b51fc9798f4a_5.3Z3SLACO8AXE&ppt=browse&ppn=browse&ssid=fusmks8d4g0000001693493190938&page=3\n",
      "https://www.flipkart.com/mobiles/pr?sid=tyy%2C4io&p%5B%5D=facets.brand%255B%255D%3Dvivo&ctx=eyJjYXJkQ29udGV4dCI6eyJhdHRyaWJ1dGVzIjp7InRpdGxlIjp7Im11bHRpVmFsdWVkQXR0cmlidXRlIjp7ImtleSI6InRpdGxlIiwiaW5mZXJlbmNlVHlwZSI6IlRJVExFIiwidmFsdWVzIjpbIlZJVk8iXSwidmFsdWVUeXBlIjoiTVVMVElfVkFMVUVEIn19fX19&fm=neo%2Fmerchandising&iid=M_ff06eb92-ad05-4d09-a381-5cba295ff50a_5.3Z3SLACO8AXE&ppt=browse&ppn=browse&ssid=6oox7isl400000001691833159604&p%5B%5D=facets.availability%255B%255D%3DExclude%2BOut%2Bof%2BStock&ctx=eyJjYXJkQ29udGV4dCI6eyJhdHRyaWJ1dGVzIjp7InRpdGxlIjp7Im11bHRpVmFsdWVkQXR0cmlidXRlIjp7ImtleSI6InRpdGxlIiwiaW5mZXJlbmNlVHlwZSI6IlRJVExFIiwidmFsdWVzIjpbIlZJVk8iXSwidmFsdWVUeXBlIjoiTVVMVElfVkFMVUVEIn19fX19&otracker=clp_metro_expandable_3_5.metroExpandable.METRO_EXPANDABLE_VIVO_mobile-phones-store_3Z3SLACO8AXE_wp3&fm=neo%2Fmerchandising&iid=M_ffd55c20-ca16-48fe-8e7e-b51fc9798f4a_5.3Z3SLACO8AXE&ppt=browse&ppn=browse&ssid=fusmks8d4g0000001693493190938&page=4\n",
      "https://www.flipkart.com/mobiles/pr?sid=tyy%2C4io&p%5B%5D=facets.brand%255B%255D%3Dvivo&ctx=eyJjYXJkQ29udGV4dCI6eyJhdHRyaWJ1dGVzIjp7InRpdGxlIjp7Im11bHRpVmFsdWVkQXR0cmlidXRlIjp7ImtleSI6InRpdGxlIiwiaW5mZXJlbmNlVHlwZSI6IlRJVExFIiwidmFsdWVzIjpbIlZJVk8iXSwidmFsdWVUeXBlIjoiTVVMVElfVkFMVUVEIn19fX19&fm=neo%2Fmerchandising&iid=M_ff06eb92-ad05-4d09-a381-5cba295ff50a_5.3Z3SLACO8AXE&ppt=browse&ppn=browse&ssid=6oox7isl400000001691833159604&p%5B%5D=facets.availability%255B%255D%3DExclude%2BOut%2Bof%2BStock&ctx=eyJjYXJkQ29udGV4dCI6eyJhdHRyaWJ1dGVzIjp7InRpdGxlIjp7Im11bHRpVmFsdWVkQXR0cmlidXRlIjp7ImtleSI6InRpdGxlIiwiaW5mZXJlbmNlVHlwZSI6IlRJVExFIiwidmFsdWVzIjpbIlZJVk8iXSwidmFsdWVUeXBlIjoiTVVMVElfVkFMVUVEIn19fX19&otracker=clp_metro_expandable_3_5.metroExpandable.METRO_EXPANDABLE_VIVO_mobile-phones-store_3Z3SLACO8AXE_wp3&fm=neo%2Fmerchandising&iid=M_ffd55c20-ca16-48fe-8e7e-b51fc9798f4a_5.3Z3SLACO8AXE&ppt=browse&ppn=browse&ssid=fusmks8d4g0000001693493190938&page=5\n",
      "https://www.flipkart.com/mobiles/pr?sid=tyy%2C4io&p%5B%5D=facets.brand%255B%255D%3Dvivo&ctx=eyJjYXJkQ29udGV4dCI6eyJhdHRyaWJ1dGVzIjp7InRpdGxlIjp7Im11bHRpVmFsdWVkQXR0cmlidXRlIjp7ImtleSI6InRpdGxlIiwiaW5mZXJlbmNlVHlwZSI6IlRJVExFIiwidmFsdWVzIjpbIlZJVk8iXSwidmFsdWVUeXBlIjoiTVVMVElfVkFMVUVEIn19fX19&fm=neo%2Fmerchandising&iid=M_ff06eb92-ad05-4d09-a381-5cba295ff50a_5.3Z3SLACO8AXE&ppt=browse&ppn=browse&ssid=6oox7isl400000001691833159604&p%5B%5D=facets.availability%255B%255D%3DExclude%2BOut%2Bof%2BStock&ctx=eyJjYXJkQ29udGV4dCI6eyJhdHRyaWJ1dGVzIjp7InRpdGxlIjp7Im11bHRpVmFsdWVkQXR0cmlidXRlIjp7ImtleSI6InRpdGxlIiwiaW5mZXJlbmNlVHlwZSI6IlRJVExFIiwidmFsdWVzIjpbIlZJVk8iXSwidmFsdWVUeXBlIjoiTVVMVElfVkFMVUVEIn19fX19&otracker=clp_metro_expandable_3_5.metroExpandable.METRO_EXPANDABLE_VIVO_mobile-phones-store_3Z3SLACO8AXE_wp3&fm=neo%2Fmerchandising&iid=M_ffd55c20-ca16-48fe-8e7e-b51fc9798f4a_5.3Z3SLACO8AXE&ppt=browse&ppn=browse&ssid=fusmks8d4g0000001693493190938&page=6\n",
      "https://www.flipkart.com/mobiles/pr?sid=tyy%2C4io&p%5B%5D=facets.brand%255B%255D%3Dvivo&ctx=eyJjYXJkQ29udGV4dCI6eyJhdHRyaWJ1dGVzIjp7InRpdGxlIjp7Im11bHRpVmFsdWVkQXR0cmlidXRlIjp7ImtleSI6InRpdGxlIiwiaW5mZXJlbmNlVHlwZSI6IlRJVExFIiwidmFsdWVzIjpbIlZJVk8iXSwidmFsdWVUeXBlIjoiTVVMVElfVkFMVUVEIn19fX19&fm=neo%2Fmerchandising&iid=M_ff06eb92-ad05-4d09-a381-5cba295ff50a_5.3Z3SLACO8AXE&ppt=browse&ppn=browse&ssid=6oox7isl400000001691833159604&p%5B%5D=facets.availability%255B%255D%3DExclude%2BOut%2Bof%2BStock&ctx=eyJjYXJkQ29udGV4dCI6eyJhdHRyaWJ1dGVzIjp7InRpdGxlIjp7Im11bHRpVmFsdWVkQXR0cmlidXRlIjp7ImtleSI6InRpdGxlIiwiaW5mZXJlbmNlVHlwZSI6IlRJVExFIiwidmFsdWVzIjpbIlZJVk8iXSwidmFsdWVUeXBlIjoiTVVMVElfVkFMVUVEIn19fX19&otracker=clp_metro_expandable_3_5.metroExpandable.METRO_EXPANDABLE_VIVO_mobile-phones-store_3Z3SLACO8AXE_wp3&fm=neo%2Fmerchandising&iid=M_ffd55c20-ca16-48fe-8e7e-b51fc9798f4a_5.3Z3SLACO8AXE&ppt=browse&ppn=browse&ssid=fusmks8d4g0000001693493190938&page=7\n",
      "https://www.flipkart.com/mobiles/pr?sid=tyy%2C4io&p%5B%5D=facets.brand%255B%255D%3Dvivo&ctx=eyJjYXJkQ29udGV4dCI6eyJhdHRyaWJ1dGVzIjp7InRpdGxlIjp7Im11bHRpVmFsdWVkQXR0cmlidXRlIjp7ImtleSI6InRpdGxlIiwiaW5mZXJlbmNlVHlwZSI6IlRJVExFIiwidmFsdWVzIjpbIlZJVk8iXSwidmFsdWVUeXBlIjoiTVVMVElfVkFMVUVEIn19fX19&fm=neo%2Fmerchandising&iid=M_ff06eb92-ad05-4d09-a381-5cba295ff50a_5.3Z3SLACO8AXE&ppt=browse&ppn=browse&ssid=6oox7isl400000001691833159604&p%5B%5D=facets.availability%255B%255D%3DExclude%2BOut%2Bof%2BStock&ctx=eyJjYXJkQ29udGV4dCI6eyJhdHRyaWJ1dGVzIjp7InRpdGxlIjp7Im11bHRpVmFsdWVkQXR0cmlidXRlIjp7ImtleSI6InRpdGxlIiwiaW5mZXJlbmNlVHlwZSI6IlRJVExFIiwidmFsdWVzIjpbIlZJVk8iXSwidmFsdWVUeXBlIjoiTVVMVElfVkFMVUVEIn19fX19&otracker=clp_metro_expandable_3_5.metroExpandable.METRO_EXPANDABLE_VIVO_mobile-phones-store_3Z3SLACO8AXE_wp3&fm=neo%2Fmerchandising&iid=M_ffd55c20-ca16-48fe-8e7e-b51fc9798f4a_5.3Z3SLACO8AXE&ppt=browse&ppn=browse&ssid=fusmks8d4g0000001693493190938&page=8\n",
      "https://www.flipkart.com/mobiles/pr?sid=tyy%2C4io&p%5B%5D=facets.brand%255B%255D%3Dvivo&ctx=eyJjYXJkQ29udGV4dCI6eyJhdHRyaWJ1dGVzIjp7InRpdGxlIjp7Im11bHRpVmFsdWVkQXR0cmlidXRlIjp7ImtleSI6InRpdGxlIiwiaW5mZXJlbmNlVHlwZSI6IlRJVExFIiwidmFsdWVzIjpbIlZJVk8iXSwidmFsdWVUeXBlIjoiTVVMVElfVkFMVUVEIn19fX19&fm=neo%2Fmerchandising&iid=M_ff06eb92-ad05-4d09-a381-5cba295ff50a_5.3Z3SLACO8AXE&ppt=browse&ppn=browse&ssid=6oox7isl400000001691833159604&p%5B%5D=facets.availability%255B%255D%3DExclude%2BOut%2Bof%2BStock&ctx=eyJjYXJkQ29udGV4dCI6eyJhdHRyaWJ1dGVzIjp7InRpdGxlIjp7Im11bHRpVmFsdWVkQXR0cmlidXRlIjp7ImtleSI6InRpdGxlIiwiaW5mZXJlbmNlVHlwZSI6IlRJVExFIiwidmFsdWVzIjpbIlZJVk8iXSwidmFsdWVUeXBlIjoiTVVMVElfVkFMVUVEIn19fX19&otracker=clp_metro_expandable_3_5.metroExpandable.METRO_EXPANDABLE_VIVO_mobile-phones-store_3Z3SLACO8AXE_wp3&fm=neo%2Fmerchandising&iid=M_ffd55c20-ca16-48fe-8e7e-b51fc9798f4a_5.3Z3SLACO8AXE&ppt=browse&ppn=browse&ssid=fusmks8d4g0000001693493190938&page=9\n"
     ]
    }
   ],
   "source": [
    "for i in range (2,11):\n",
    "    url =\"https://www.flipkart.com/mobiles/pr?sid=tyy%2C4io&p%5B%5D=facets.brand%255B%255D%3Dvivo&ctx=eyJjYXJkQ29udGV4dCI6eyJhdHRyaWJ1dGVzIjp7InRpdGxlIjp7Im11bHRpVmFsdWVkQXR0cmlidXRlIjp7ImtleSI6InRpdGxlIiwiaW5mZXJlbmNlVHlwZSI6IlRJVExFIiwidmFsdWVzIjpbIlZJVk8iXSwidmFsdWVUeXBlIjoiTVVMVElfVkFMVUVEIn19fX19&fm=neo%2Fmerchandising&iid=M_ff06eb92-ad05-4d09-a381-5cba295ff50a_5.3Z3SLACO8AXE&ppt=browse&ppn=browse&ssid=6oox7isl400000001691833159604&p%5B%5D=facets.availability%255B%255D%3DExclude%2BOut%2Bof%2BStock&ctx=eyJjYXJkQ29udGV4dCI6eyJhdHRyaWJ1dGVzIjp7InRpdGxlIjp7Im11bHRpVmFsdWVkQXR0cmlidXRlIjp7ImtleSI6InRpdGxlIiwiaW5mZXJlbmNlVHlwZSI6IlRJVExFIiwidmFsdWVzIjpbIlZJVk8iXSwidmFsdWVUeXBlIjoiTVVMVElfVkFMVUVEIn19fX19&otracker=clp_metro_expandable_3_5.metroExpandable.METRO_EXPANDABLE_VIVO_mobile-phones-store_3Z3SLACO8AXE_wp3&fm=neo%2Fmerchandising&iid=M_ffd55c20-ca16-48fe-8e7e-b51fc9798f4a_5.3Z3SLACO8AXE&ppt=browse&ppn=browse&ssid=fusmks8d4g0000001693493190938&page=\"+str(i)\n",
    "    r = requests.get(url)\n",
    "    soup = BeautifulSoup(r.text,\"lxml\")\n",
    "    np = soup.find(\"a\", class_ =\"_1LKTO3\").get(\"href\")\n",
    "#print(np)\n",
    "    cnp = \"https://www.flipkart.com\" + np \n",
    "    print(cnp)\n",
    "    "
   ]
  },
  {
   "cell_type": "code",
   "execution_count": null,
   "id": "fd6c1e73",
   "metadata": {},
   "outputs": [],
   "source": [
    "https://www.flipkart.com/mobiles/pr?sid=tyy%2C4io&p%5B%5D=facets.brand%255B%255D%3Dvivo&ctx=eyJjYXJkQ29udGV4dCI6eyJhdHRyaWJ1dGVzIjp7InRpdGxlIjp7Im11bHRpVmFsdWVkQXR0cmlidXRlIjp7ImtleSI6InRpdGxlIiwiaW5mZXJlbmNlVHlwZSI6IlRJVExFIiwidmFsdWVzIjpbIlZJVk8iXSwidmFsdWVUeXBlIjoiTVVMVElfVkFMVUVEIn19fX19&fm=neo%2Fmerchandising&iid=M_ff06eb92-ad05-4d09-a381-5cba295ff50a_5.3Z3SLACO8AXE&ppt=browse&ppn=browse&ssid=6oox7isl400000001691833159604&p%5B%5D=facets.availability%255B%255D%3DExclude%2BOut%2Bof%2BStock&ctx=eyJjYXJkQ29udGV4dCI6eyJhdHRyaWJ1dGVzIjp7InRpdGxlIjp7Im11bHRpVmFsdWVkQXR0cmlidXRlIjp7ImtleSI6InRpdGxlIiwiaW5mZXJlbmNlVHlwZSI6IlRJVExFIiwidmFsdWVzIjpbIlZJVk8iXSwidmFsdWVUeXBlIjoiTVVMVElfVkFMVUVEIn19fX19&otracker=clp_metro_expandable_3_5.metroExpandable.METRO_EXPANDABLE_VIVO_mobile-phones-store_3Z3SLACO8AXE_wp3&fm=neo%2Fmerchandising&iid=M_ffd55c20-ca16-48fe-8e7e-b51fc9798f4a_5.3Z3SLACO8AXE&ppt=browse&ppn=browse&ssid=fusmks8d4g0000001693493190938&page=3"
   ]
  },
  {
   "cell_type": "code",
   "execution_count": 15,
   "id": "bf5d537f",
   "metadata": {},
   "outputs": [
    {
     "name": "stdout",
     "output_type": "stream",
     "text": [
      "vivo T2x 5G (Glimmer Black, 128 GB)\n",
      "vivo T2x 5G (Marine Blue, 128 GB)\n",
      "vivo T2x 5G (Aurora Gold, 128 GB)\n",
      "vivo T2x 5G (Marine Blue, 128 GB)\n",
      "vivo T2x 5G (Glimmer Black, 128 GB)\n",
      "vivo T2x 5G (Glimmer Black, 128 GB)\n",
      "vivo T2x 5G (Marine Blue, 128 GB)\n",
      "vivo T2x 5G (Aurora Gold, 128 GB)\n",
      "vivo T2x 5G (Aurora Gold, 128 GB)\n",
      "vivo T2 5G (Velocity Wave, 128 GB)\n",
      "vivo T2 5G (Nitro Blaze, 128 GB)\n",
      "vivo T2 5G (Velocity Wave, 128 GB)\n",
      "vivo T2 5G (Nitro Blaze, 128 GB)\n",
      "vivo V29e 5G (Artistic Red, 256 GB)\n",
      "vivo V29e 5G (Artistic Blue, 256 GB)\n",
      "vivo V29e 5G (Artistic Red, 128 GB)\n",
      "vivo V29e 5G (Artistic Blue, 128 GB)\n",
      "vivo Y02t (Sunset Gold, 64 GB)\n",
      "vivo Y02t (Cosmic Grey, 64 GB)\n",
      "vivo Y56 5G (Black Engine, 128 GB)\n",
      "vivo V27 5G (Noble Black, 128 GB)\n",
      "vivo Y56 5G (Orange Shimmer, 128 GB)\n",
      "vivo Y56 5G (Black Engine, 128 GB)\n",
      "vivo Y02 (Cosmic Grey, 32 GB)\n"
     ]
    }
   ],
   "source": [
    "#url = \"https://www.flipkart.com/mobiles/pr?sid=tyy%2C4io&p%5B%5D=facets.brand%255B%255D%3Dvivo&ctx=eyJjYXJkQ29udGV4dCI6eyJhdHRyaWJ1dGVzIjp7InRpdGxlIjp7Im11bHRpVmFsdWVkQXR0cmlidXRlIjp7ImtleSI6InRpdGxlIiwiaW5mZXJlbmNlVHlwZSI6IlRJVExFIiwidmFsdWVzIjpbIlZJVk8iXSwidmFsdWVUeXBlIjoiTVVMVElfVkFMVUVEIn19fX19&fm=neo%2Fmerchandising&iid=M_ff06eb92-ad05-4d09-a381-5cba295ff50a_5.3Z3SLACO8AXE&ppt=browse&ppn=browse&ssid=6oox7isl400000001691833159604&p%5B%5D=facets.availability%255B%255D%3DExclude%2BOut%2Bof%2BStock&ctx=eyJjYXJkQ29udGV4dCI6eyJhdHRyaWJ1dGVzIjp7InRpdGxlIjp7Im11bHRpVmFsdWVkQXR0cmlidXRlIjp7ImtleSI6InRpdGxlIiwiaW5mZXJlbmNlVHlwZSI6IlRJVExFIiwidmFsdWVzIjpbIlZJVk8iXSwidmFsdWVUeXBlIjoiTVVMVElfVkFMVUVEIn19fX19&otracker=clp_metro_expandable_3_5.metroExpandable.METRO_EXPANDABLE_VIVO_mobile-phones-store_3Z3SLACO8AXE_wp3&fm=neo%2Fmerchandising&iid=M_ffd55c20-ca16-48fe-8e7e-b51fc9798f4a_5.3Z3SLACO8AXE&ppt=browse&ppn=browse&ssid=fusmks8d4g0000001693493190938\"\n",
    "url = \"https://www.flipkart.com/mobiles/pr?sid=tyy%2C4io&p%5B%5D=facets.brand%255B%255D%3Dvivo&ctx=eyJjYXJkQ29udGV4dCI6eyJhdHRyaWJ1dGVzIjp7InRpdGxlIjp7Im11bHRpVmFsdWVkQXR0cmlidXRlIjp7ImtleSI6InRpdGxlIiwiaW5mZXJlbmNlVHlwZSI6IlRJVExFIiwidmFsdWVzIjpbIlZJVk8iXSwidmFsdWVUeXBlIjoiTVVMVElfVkFMVUVEIn19fX19&fm=neo%2Fmerchandising&iid=M_ff06eb92-ad05-4d09-a381-5cba295ff50a_5.3Z3SLACO8AXE&ppt=browse&ppn=browse&ssid=6oox7isl400000001691833159604&p%5B%5D=facets.availability%255B%255D%3DExclude%2BOut%2Bof%2BStock&ctx=eyJjYXJkQ29udGV4dCI6eyJhdHRyaWJ1dGVzIjp7InRpdGxlIjp7Im11bHRpVmFsdWVkQXR0cmlidXRlIjp7ImtleSI6InRpdGxlIiwiaW5mZXJlbmNlVHlwZSI6IlRJVExFIiwidmFsdWVzIjpbIlZJVk8iXSwidmFsdWVUeXBlIjoiTVVMVElfVkFMVUVEIn19fX19&otracker=clp_metro_expandable_3_5.metroExpandable.METRO_EXPANDABLE_VIVO_mobile-phones-store_3Z3SLACO8AXE_wp3&fm=neo%2Fmerchandising&iid=M_ffd55c20-ca16-48fe-8e7e-b51fc9798f4a_5.3Z3SLACO8AXE&ppt=browse&ppn=browse&ssid=fusmks8d4g0000001693493190938\"\n",
    "r = requests.get(url)\n",
    "\n",
    "soup = BeautifulSoup(r.text,\"lxml\")\n",
    "r = requests.get(url)\n",
    "#print(r)\n",
    "\n",
    "names = soup.find_all(\"div\", class_ = \"_4rR01T\")\n",
    "for i in names :\n",
    "    print(i.string)"
   ]
  },
  {
   "cell_type": "code",
   "execution_count": 13,
   "id": "ffe125c3",
   "metadata": {},
   "outputs": [
    {
     "name": "stdout",
     "output_type": "stream",
     "text": [
      "24\n",
      "24\n",
      "24\n"
     ]
    }
   ],
   "source": [
    "import pandas as pd\n",
    "url = \"https://www.flipkart.com/mobiles/pr?sid=tyy%2C4io&p%5B%5D=facets.brand%255B%255D%3Dvivo&ctx=eyJjYXJkQ29udGV4dCI6eyJhdHRyaWJ1dGVzIjp7InRpdGxlIjp7Im11bHRpVmFsdWVkQXR0cmlidXRlIjp7ImtleSI6InRpdGxlIiwiaW5mZXJlbmNlVHlwZSI6IlRJVExFIiwidmFsdWVzIjpbIlZJVk8iXSwidmFsdWVUeXBlIjoiTVVMVElfVkFMVUVEIn19fX19&fm=neo%2Fmerchandising&iid=M_ff06eb92-ad05-4d09-a381-5cba295ff50a_5.3Z3SLACO8AXE&ppt=browse&ppn=browse&ssid=6oox7isl400000001691833159604&p%5B%5D=facets.availability%255B%255D%3DExclude%2BOut%2Bof%2BStock&ctx=eyJjYXJkQ29udGV4dCI6eyJhdHRyaWJ1dGVzIjp7InRpdGxlIjp7Im11bHRpVmFsdWVkQXR0cmlidXRlIjp7ImtleSI6InRpdGxlIiwiaW5mZXJlbmNlVHlwZSI6IlRJVExFIiwidmFsdWVzIjpbIlZJVk8iXSwidmFsdWVUeXBlIjoiTVVMVElfVkFMVUVEIn19fX19&otracker=clp_metro_expandable_3_5.metroExpandable.METRO_EXPANDABLE_VIVO_mobile-phones-store_3Z3SLACO8AXE_wp3&fm=neo%2Fmerchandising&iid=M_ffd55c20-ca16-48fe-8e7e-b51fc9798f4a_5.3Z3SLACO8AXE&ppt=browse&ppn=browse&ssid=fusmks8d4g0000001693493190938\"\n",
    "r = requests.get(url)\n",
    "\n",
    "soup = BeautifulSoup(r.text,\"lxml\")\n",
    "r = requests.get(url)\n",
    "Names = []\n",
    "Prices =[]\n",
    "Desc =[]\n",
    "Review =[]\n",
    "\n",
    "box = soup.find(\"div\", class_ =\"_1YokD2 _3Mn1Gg\")\n",
    "names = box.find_all(\"div\", class_ = \"_4rR01T\")\n",
    "for n in names:\n",
    "    name = n.text\n",
    "    Names.append(name)\n",
    "print(len(Names))\n",
    "\n",
    "prices = box.find_all(\"div\", class_ = \"_30jeq3 _1_WHN1\")\n",
    "for n in prices :\n",
    "    price = n.text\n",
    "    Prices.append(price)\n",
    "print(len(Prices))\n",
    "\n",
    "desc = box.find_all(\"ul\", class_ =\"_1xgFaf\")\n",
    "for n in desc :\n",
    "    descs = n.text\n",
    "    Desc.append(descs)\n",
    "print(len(Desc))\n",
    "\n",
    "\n",
    "\n",
    "df = pd.DataFrame({\"product name\" : Names , \"product prices \" : Prices , \"Product description\" :Desc \n",
    "        })\n",
    "\n",
    "    "
   ]
  }
 ],
 "metadata": {
  "kernelspec": {
   "display_name": "Python 3 (ipykernel)",
   "language": "python",
   "name": "python3"
  },
  "language_info": {
   "codemirror_mode": {
    "name": "ipython",
    "version": 3
   },
   "file_extension": ".py",
   "mimetype": "text/x-python",
   "name": "python",
   "nbconvert_exporter": "python",
   "pygments_lexer": "ipython3",
   "version": "3.11.4"
  }
 },
 "nbformat": 4,
 "nbformat_minor": 5
}
