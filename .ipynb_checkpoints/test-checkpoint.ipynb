{
 "cells": [
  {
   "cell_type": "code",
   "execution_count": 5,
   "id": "2e0e620d",
   "metadata": {},
   "outputs": [],
   "source": [
    "import requests\n",
    "from bs4 import BeautifulSoup\n",
    "url = \"https://webscraper.io/test-sites/e-commerce/allinone\"\n",
    "r = requests.get(url)\n",
    "soup = BeautifulSoup(r.text, 'lxml')\n",
    "\n"
   ]
  },
  {
   "cell_type": "code",
   "execution_count": 8,
   "id": "8e971151",
   "metadata": {},
   "outputs": [
    {
     "name": "stdout",
     "output_type": "stream",
     "text": [
      "['navbar', 'navbar-fixed-top', 'navbar-static']\n"
     ]
    }
   ],
   "source": [
    "#purple- tag\n",
    "#yellow = attribute\n",
    "#Black - strings\n",
    "\n",
    "#playing with attributes\n",
    "tag = soup.header\n",
    "atb = (tag.attrs)\n",
    "print(atb[\"class\"])"
   ]
  },
  {
   "cell_type": "code",
   "execution_count": 7,
   "id": "47d988bd",
   "metadata": {},
   "outputs": [
    {
     "name": "stdout",
     "output_type": "stream",
     "text": [
      "Web Scraper\n"
     ]
    }
   ],
   "source": [
    "#playing with navigation strings i.e text\n",
    "tag = soup.div.p.string\n",
    "print(tag)"
   ]
  },
  {
   "cell_type": "code",
   "execution_count": 21,
   "id": "f7759c7d",
   "metadata": {},
   "outputs": [
    {
     "name": "stdout",
     "output_type": "stream",
     "text": [
      "$69.99\n"
     ]
    }
   ],
   "source": [
    "#working with find()\n",
    "url = \"https://webscraper.io/test-sites/e-commerce/allinone/computers/tablets\"\n",
    "r = requests.get(url)\n",
    "soup = BeautifulSoup(r.text, 'lxml')\n",
    "\n",
    "price = (soup.find(\"h4\", {\"class\":\"pull-right price\"}))\n",
    "print(price.string)"
   ]
  },
  {
   "cell_type": "code",
   "execution_count": 23,
   "id": "3865d73c",
   "metadata": {},
   "outputs": [
    {
     "name": "stdout",
     "output_type": "stream",
     "text": [
      "Lenovo IdeaTab\n"
     ]
    }
   ],
   "source": [
    "price = (soup.find(\"a\", {\"class\":\"title\"}))\n",
    "print(price.string)"
   ]
  },
  {
   "cell_type": "code",
   "execution_count": null,
   "id": "cf619268",
   "metadata": {},
   "outputs": [],
   "source": []
  }
 ],
 "metadata": {
  "kernelspec": {
   "display_name": "Python 3 (ipykernel)",
   "language": "python",
   "name": "python3"
  },
  "language_info": {
   "codemirror_mode": {
    "name": "ipython",
    "version": 3
   },
   "file_extension": ".py",
   "mimetype": "text/x-python",
   "name": "python",
   "nbconvert_exporter": "python",
   "pygments_lexer": "ipython3",
   "version": "3.11.4"
  }
 },
 "nbformat": 4,
 "nbformat_minor": 5
}
